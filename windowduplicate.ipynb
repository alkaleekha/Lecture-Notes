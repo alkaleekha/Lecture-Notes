{
 "cells": [
  {
   "cell_type": "code",
   "execution_count": 1,
   "metadata": {},
   "outputs": [],
   "source": [
    "def sliding_window(image, stepSize, windowSize):\n",
    "\t# slide a window across the image\n",
    "\tfor y in range(0, image.shape[0], stepSize):\n",
    "\t\tfor x in range(0, image.shape[1], stepSize):\n",
    "\t\t\t# yield the current window\n",
    "\t\t\tyield (x, y, image[y:y + windowSize[1], x:x + windowSize[0]])\n",
    "            "
   ]
  },
  {
   "cell_type": "code",
   "execution_count": 2,
   "metadata": {},
   "outputs": [],
   "source": [
    "import time\n",
    "import cv2"
   ]
  },
  {
   "cell_type": "code",
   "execution_count": 3,
   "metadata": {},
   "outputs": [],
   "source": [
    "image = cv2.imread(r\"C:\\Users\\alkal\\OneDrive\\Desktop\\a_1.jpg\")\n",
    "(winW, winH) = (128, 128)"
   ]
  },
  {
   "cell_type": "code",
   "execution_count": 4,
   "metadata": {},
   "outputs": [],
   "source": [
    "import hashlib\n",
    "import numpy as np"
   ]
  },
  {
   "cell_type": "code",
   "execution_count": 5,
   "metadata": {},
   "outputs": [],
   "source": [
    "hashValues=[]\n",
    "cox=[]\n",
    "coy=[]"
   ]
  },
  {
   "cell_type": "code",
   "execution_count": 6,
   "metadata": {},
   "outputs": [],
   "source": [
    "for (x, y, window) in sliding_window(image, stepSize=32, windowSize=(winW, winH)):\n",
    "        if window.shape[0] != winH or window.shape[1] != winW:\n",
    "            filehash = hashlib.md5(np.ascontiguousarray(window)).hexdigest()\n",
    "            hashValues.append(filehash)\n",
    "            cox.append(x)\n",
    "            coy.append(y)\n",
    "        clone = image.copy()\n",
    "        cv2.rectangle(clone, (x, y), (x + winW, y + winH), (0, 255, 0), 2)\n",
    "        cv2.imshow(\"Window\", clone)\n",
    "        cv2.waitKey(1)\n",
    "        time.sleep(0.09)\n",
    "#print(hashValues)"
   ]
  },
  {
   "cell_type": "code",
   "execution_count": 7,
   "metadata": {},
   "outputs": [],
   "source": [
    "image1 = cv2.imread(r\"C:\\Users\\alkal\\OneDrive\\Desktop\\a_2.jpg\")"
   ]
  },
  {
   "cell_type": "code",
   "execution_count": 8,
   "metadata": {},
   "outputs": [],
   "source": [
    "def sliding_windoww(image1, stepSize, windowSize):\n",
    "\t# slide a window across the image\n",
    "\tfor y in range(0, image1.shape[0], stepSize):\n",
    "\t\tfor x in range(0, image1.shape[1], stepSize):\n",
    "\t\t\t# yield the current window\n",
    "\t\t\tyield (x, y, image1[y:y + windowSize[1], x:x + windowSize[0]])"
   ]
  },
  {
   "cell_type": "code",
   "execution_count": 9,
   "metadata": {},
   "outputs": [],
   "source": [
    "hashvalues2=[]"
   ]
  },
  {
   "cell_type": "code",
   "execution_count": 10,
   "metadata": {},
   "outputs": [],
   "source": [
    "i=0\n",
    "for (x, y, window) in sliding_windoww(image1, stepSize=32, windowSize=(winW, winH)):\n",
    "        if window.shape[0] != winH or window.shape[1] != winW:\n",
    "            filehash = hashlib.md5(np.ascontiguousarray(window)).hexdigest()\n",
    "            if filehash != hashValues[i]:\n",
    "                cv2.rectangle(image1, (x, y), (x - winW, y - winH), (0, 255, 0), 2)\n",
    "                i=i+1\n",
    "            else:\n",
    "                i=i+1\n",
    "            hashvalues2.append(filehash)\n",
    "            \n",
    "        clone = image1.copy()\n",
    "        cv2.rectangle(clone, (x, y), (x + winW, y + winH), (0, 255, 0), 2)\n",
    "        \n",
    "        cv2.imshow(\"Window\", clone)\n",
    "        cv2.imshow(\"Windoww\", image1)\n",
    "        cv2.waitKey(1)\n",
    "        time.sleep(0.09)\n",
    "#print(hashvalues2)"
   ]
  },
  {
   "cell_type": "code",
   "execution_count": 11,
   "metadata": {},
   "outputs": [
    {
     "name": "stdout",
     "output_type": "stream",
     "text": [
      "91\n",
      "84\n"
     ]
    }
   ],
   "source": [
    "print(len(hashValues))\n",
    "print(len(hashvalues2))"
   ]
  },
  {
   "cell_type": "code",
   "execution_count": 15,
   "metadata": {},
   "outputs": [
    {
     "name": "stdout",
     "output_type": "stream",
     "text": [
      "213b7b3bc119963aec3747cfc133a9af 0\n",
      "0612b61e2fbaf1c4c313a1bb959d0c85 1\n",
      "bfc2664e1d2942f0a0e421ac6004a316 2\n",
      "5cd7049e7d1f85439c653e086c17b733 3\n",
      "197b67b1201e33f5affd4e1a5b48689d 4\n",
      "9b258a0b307e852f5903d339ea928f96 5\n",
      "101d8981b4562cb96e886256f5fa7647 6\n",
      "c1e57047cf5fcbd6d6c0f51b3082fccb 7\n",
      "e9028436e84dfdb5d93e2fcb30aa8917 8\n",
      "663ac8df5707a20a9c192c2598b3e678 9\n",
      "491628124cdc881f3080cb7493d5d7a1 10\n",
      "e20454e91e3449a444db9aced0b7794a 11\n",
      "86f29bd8860c502a42b35e897fb75ade 12\n",
      "144589963cd0275a19ed136a9685f3b8 13\n",
      "b8a7fad960d86a99cf4793ee693c0f1f 14\n",
      "2d59114337ca3898bba09b949aa70c8c 15\n",
      "2a72753c388cefc643db65a4c5a754d5 16\n",
      "18949d6287be86e6298b2c95c9635970 17\n",
      "f4cdd6efc4bef11f4ce153e623398728 18\n",
      "9e6948ac723293827ba1c1bbb6ba0a17 19\n",
      "eecf602c7f08bc22552f84973ca58a60 20\n",
      "b47d491a303148e763f41df2aad97b73 21\n",
      "bc70009f4e6f964b44820e644ccfbfd7 22\n",
      "87ee018af39e5e7e1de2ddc27525af37 23\n",
      "d02385023204e07ae94291807b7c6fd4 24\n",
      "86dc1929dbf77525f386f400e82c2f67 25\n",
      "0014743aa4bfb87d6b72cb9a2da12143 26\n",
      "e8def9ce4529c20d2b3f8b0630153eaf 27\n",
      "7b3c7a63fc4ce392eafd89f9ca0ae8df 28\n",
      "294e9002f518acbde53627ff12942d6a 29\n",
      "bc94f77e5548f7e5fd18ebda10731da2 30\n",
      "9bdb60e34b239aa879b9bf1ad52b1481 31\n",
      "69910a188a8ed0d02c9e380b2c1e5448 32\n",
      "cb8b4877f6f87e75f5fdff7195cef9bf 33\n",
      "6c7992a7d8356a3c165b16cdd3aaa411 34\n",
      "aebbade723a5ef8615c3a4843fe1d03c 35\n",
      "7ac361ac7c2f5e745b61aede7999d40a 36\n",
      "661eaeb17157478fa917366ac29d4f54 37\n",
      "bad273046d2b4b74e5ccc0821d437a2c 38\n",
      "9d459bc3096f9a7e4ce3ed4de19608ce 39\n",
      "5d2154d8fa14bc99494b64f95983f3ef 40\n",
      "9de3d86cecd1907ebf4d0d60c8120d6c 41\n",
      "a59b91d06a75f74dd5cff681a275bedd 42\n",
      "ddf04384d1a09b9d024fb540da03ca2d 43\n",
      "fafc66c37f2c726c66f29eec410d0135 44\n",
      "c5daefb2e746ea78b48f9d537a08d2fd 45\n",
      "1bee692fd8056c00e23d296c81cac64e 46\n",
      "c43fe2ecc599f7422d05dbdd8ac52360 47\n",
      "174ba9072df41dbe86d7288df5003283 48\n",
      "807b6d12fd11599ed7c67fbd3bfda3a8 49\n",
      "b5854ccc0578e2485b86c01adb9efbee 50\n",
      "52b736a0c88362cec6f9860543213abd 51\n",
      "4711dff3037f21929a1745f79742adaa 52\n",
      "fcd66de4d227843b9135e034bc4b4104 53\n",
      "1db2fab85e1a1b14aa1c7dbef8979671 54\n",
      "6a5f55e0edd2dbf9623d7c82620078ad 55\n",
      "c8d47883b8f5fc2d95cb6cd78c0f0981 56\n",
      "61bd8d149d9ccefeedbfd1f43813b50f 57\n",
      "20bc2401974fb3c6ab3a3ef015807550 58\n",
      "8ccff869ef933d050b08cfd1d14ec983 59\n",
      "bde52580994156dae0f84494db9216cc 60\n",
      "52c0587885a7091285cdadb2771dae01 61\n",
      "9d3a47420f60b05728c0e0a4fbd7b8ac 62\n",
      "9cbeaceef6bff7e6e39831aa34951b36 63\n",
      "9ae4b491cd4a8adb52789f857cf686b8 64\n",
      "ff66facf0f320440463dda31256d6103 65\n",
      "b66377e1ed752466383a7992644ee102 66\n",
      "d1bbf4be4e21b6b8850640ef78846e19 67\n",
      "228fe8a76cd8118aed8f5854608c9c8f 68\n",
      "1c45912d321f479359468a128b328c34 69\n",
      "4108618d99583f5e4cdbb9d0d976122a 70\n",
      "3f2103d071dc3d4b89580aff06d044d8 71\n",
      "cade6e52f3c1e1496995dfdecd403dbf 72\n",
      "5e819f32f0c329d7cb66594d6ad5857d 73\n",
      "3f271447188d928fa3863cdc90a04bf8 74\n",
      "d5658364f93ed3bb4ddb5838374c07b6 75\n",
      "3dc9d1819fea39f4258d711383305075 76\n",
      "c6601c8ae0d3f542a35c897c7c6e6418 77\n",
      "5843e1b7d64b7778edb2f5cdd6d883a3 78\n",
      "d4aec5cd103a2237e52de92f52a50acb 79\n",
      "1d46dd554429cf545ad4d8e26b89f3e3 80\n",
      "7da7d23f0cd703bfdd21e5628e94c202 81\n",
      "9295919d22033c665885600706ab568b 82\n",
      "de6cacad1f32b4ee83892dcf0ba35ef9 83\n",
      "0\n"
     ]
    }
   ],
   "source": [
    "count=0\n",
    "for i in range(0,84):\n",
    "    if hashValues[i]!=hashvalues2[i]:\n",
    "        print(hashValues[i],i)\n",
    "    else:\n",
    "        count=count+1\n",
    "print(count)"
   ]
  },
  {
   "cell_type": "code",
   "execution_count": null,
   "metadata": {},
   "outputs": [],
   "source": []
  },
  {
   "cell_type": "code",
   "execution_count": null,
   "metadata": {},
   "outputs": [],
   "source": []
  },
  {
   "cell_type": "code",
   "execution_count": null,
   "metadata": {},
   "outputs": [],
   "source": []
  }
 ],
 "metadata": {
  "kernelspec": {
   "display_name": "Python 3",
   "language": "python",
   "name": "python3"
  },
  "language_info": {
   "codemirror_mode": {
    "name": "ipython",
    "version": 3
   },
   "file_extension": ".py",
   "mimetype": "text/x-python",
   "name": "python",
   "nbconvert_exporter": "python",
   "pygments_lexer": "ipython3",
   "version": "3.8.3"
  }
 },
 "nbformat": 4,
 "nbformat_minor": 4
}
